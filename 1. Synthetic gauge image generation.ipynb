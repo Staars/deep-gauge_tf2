{
 "cells": [
  {
   "cell_type": "code",
   "execution_count": null,
   "metadata": {},
   "outputs": [],
   "source": [
    "import os\n",
    "import numpy as np\n",
    "\n",
    "from PIL import Image\n",
    "\n",
    "%matplotlib inline\n",
    "import matplotlib.pyplot as plt\n",
    "import matplotlib.image as mpimg"
   ]
  },
  {
   "cell_type": "code",
   "execution_count": null,
   "metadata": {},
   "outputs": [],
   "source": [
    "# Declare variables\n",
    "NEEDLE = './images/needle.png'\n",
    "GAUGE = './images/gauge.png'"
   ]
  },
  {
   "cell_type": "markdown",
   "metadata": {},
   "source": [
    "## Synthetic Images - Correct Needle placement\n",
    "* Determine what angle the needle needs to be set to in order to display at the 0 gauge number.\n",
    "* Deter what angle the needle needs to be set to in order to display the 15 gauge reading.\n",
    "* Iterate over the range between the 0 angle and the 15 angle\n",
    "* Create the image with the labels in PSI instead of degrees."
   ]
  },
  {
   "cell_type": "code",
   "execution_count": null,
   "metadata": {},
   "outputs": [],
   "source": [
    "# Modify the image to set the needle at 0 degrees\n",
    "image = Image.open(NEEDLE).convert('RGBA')\n",
    "image_rot_90 = image.rotate(232, expand=False, resample=Image.BICUBIC)\n",
    "# image_rot_90.save('needle_rot_0.png')\n",
    "plt.imshow(image_rot_90)"
   ]
  },
  {
   "cell_type": "code",
   "execution_count": null,
   "metadata": {},
   "outputs": [],
   "source": [
    "image_rot_134 = image.rotate(134, expand=False, resample=Image.BICUBIC)\n",
    "plt.imshow(image_rot_134)"
   ]
  },
  {
   "cell_type": "code",
   "execution_count": null,
   "metadata": {},
   "outputs": [],
   "source": [
    "image_rot_360 = image.rotate(360, expand=False, resample=Image.BICUBIC)\n",
    "plt.imshow(image_rot_360)"
   ]
  },
  {
   "cell_type": "code",
   "execution_count": null,
   "metadata": {},
   "outputs": [],
   "source": [
    "# Gauge background\n",
    "image = Image.open(GAUGE).convert('RGBA')\n",
    "plt.imshow(image)"
   ]
  },
  {
   "cell_type": "markdown",
   "metadata": {},
   "source": [
    "### Needle image manipulation and rotation"
   ]
  },
  {
   "cell_type": "code",
   "execution_count": null,
   "metadata": {},
   "outputs": [],
   "source": [
    "# Rotate all the images of needles 360 degrees\n",
    "PATH = \"./images/needles/needle_rot_{0}.png\"\n",
    "def make_needles(angle):\n",
    "    img = Image.open('needle_rot_0.png')\n",
    "    x = img.rotate(-angle, expand=True, resample=Image.BICUBIC)\n",
    "    # crop the rotated image to the size of the original image\n",
    "    x = x.crop(box=(x.size[0]/2 - img.size[0]/2,\n",
    "               x.size[1]/2 - img.size[1]/2,\n",
    "               x.size[0]/2 + img.size[0]/2,\n",
    "               x.size[1]/2 + img.size[1]/2))\n",
    "    \n",
    "    filename = PATH.format(angle)\n",
    "\n",
    "    x.save(filename)\n",
    "\n",
    "for angle in range(0, 361):\n",
    "    make_needles(angle)"
   ]
  },
  {
   "cell_type": "markdown",
   "metadata": {},
   "source": [
    "### Individual folder structure for Tensorflow training"
   ]
  },
  {
   "cell_type": "code",
   "execution_count": null,
   "metadata": {},
   "outputs": [],
   "source": [
    "# Create the folders for each of the gauge classes\n",
    "PATH = './images/tf_gauges/psi_{0}'\n",
    "\n",
    "def createFolder(directory):\n",
    "    try:\n",
    "        if not os.path.exists(directory):\n",
    "            os.makedirs(directory)\n",
    "    except OSError:\n",
    "        print ('Error: Creating directory. ' +  directory)\n",
    "\n",
    "m = range(0, 16)\n",
    "n = range(1, 10)\n",
    "o = range(5, 10)\n",
    "\n",
    "for idx, i in enumerate(m):\n",
    "    createFolder(PATH.format(i))\n",
    "    \n",
    "    # the gauge stops at 15\n",
    "    if(i != 15):\n",
    "        # loop through 0.5 - 1\n",
    "        for kdx, k in enumerate(o):\n",
    "            pre_one = \"{0}-{1}\".format(i,k)\n",
    "            createFolder(PATH.format(pre_one))\n",
    "        \n",
    "    # loop through 1 - 15\n",
    "    if(i >= 1 and i < 15):\n",
    "        whole = \"{0}\".format(i)\n",
    "        createFolder(PATH.format(whole))\n",
    "        \n",
    "        # Loop through #.1 = #.9\n",
    "        if(i != 15):\n",
    "            for jdx, j in enumerate(n):\n",
    "                decimal = \"{0}-{1}\".format(i,j)\n",
    "                createFolder(PATH.format(decimal))"
   ]
  },
  {
   "cell_type": "markdown",
   "metadata": {},
   "source": [
    "### Generate synthetic gauges and save for Tensorflow training"
   ]
  },
  {
   "cell_type": "code",
   "execution_count": null,
   "metadata": {},
   "outputs": [],
   "source": [
    "NEEDLES_PATH = \"./images/needles/needle_rot_{0}.png\"\n",
    "TF_GAUGES = \"./images/tf_gauges/psi_{0}\"\n",
    "EDA_GAUGES = \"./images/gauges/{0}\"\n",
    "\n",
    "def save_gauge(item, num):\n",
    "    img_gauge = Image.open(GAUGE, 'r')\n",
    "\n",
    "    filename = NEEDLES_PATH.format(item)\n",
    "    img_needle = Image.open(filename, 'r')\n",
    "    img_copy = img_gauge.copy()\n",
    "\n",
    "    img_copy.paste(img_needle.convert('L'), (-28, -38), img_needle.convert('RGBA'))\n",
    "    \n",
    "    # Save the synthetic image to the class folder\n",
    "    string_num = str(num)\n",
    "    dash = string_num.replace(\".\",\"-\")\n",
    "    folder = TF_GAUGES.format(dash)\n",
    "\n",
    "    # Save PNG for data Augmentation\n",
    "    gauge_name = \"{0}/gauge_0.png\"\n",
    "    filename_save = gauge_name.format(folder)\n",
    "    img_copy.save(filename_save)\n",
    "\n",
    "    # Save PNG for EDA\n",
    "    eda_name = \"gauge_{0}.png\".format(dash)\n",
    "    img_copy.save( EDA_GAUGES.format(eda_name) )\n",
    "\n",
    "def iterate_gauge(mapping):\n",
    "    for idx, item in enumerate(mapping):\n",
    "        save_gauge(mapping[item], item)"
   ]
  },
  {
   "cell_type": "code",
   "execution_count": null,
   "metadata": {},
   "outputs": [],
   "source": [
    "# Define a mapping between degrees in circle and gauge readings\n",
    "gaugeDegreeMap = {\n",
    "    0:231, 0.5:233, 0.6:235, 0.7:237, 0.8:239, 0.9:241,\n",
    "    1:243, 1.1:244, 1.2:246, 1.3:248, 1.4:249, 1.5:250, 1.6:253, 1.7:255, 1.8:257, 1.9:259,\n",
    "    2:260, 2.1:262, 2.2:264, 2.3:266, 2.4:268, 2.5:270, 2.6:271, 2.7:273, 2.8:275, 2.9:277,\n",
    "    3:279, 3.1:280, 3.2:282, 3.3:284, 3.4:286, 3.5:287, 3.6:290, 3.7:291, 3.8:293, 3.9:295,\n",
    "    4:297, 4.1:299, 4.2:301, 4.3:302, 4.4:304, 4.5:306, 4.6:308, 4.7:310, 4.8:311, 4.9:313,\n",
    "    5:315, 5.1:317, 5.2:319, 5.3:321, 5.4:323, 5.5:325, 5.6:327, 5.7:328, 5.8:330, 5.9:332,\n",
    "    6:334, 6.1:336, 6.2:338, 6.3:339, 6.4:341, 6.5:343, 6.6:345, 6.7:347, 6.8:349, 6.9:350,\n",
    "    7:352, 7.1:355, 7.2:357, 7.3:358, 7.4:360, 7.5:2, 7.6:4, 7.7:6, 7.8:7, 7.9:9,\n",
    "    8:11, 8.1:13, 8.2:15, 8.3:16, 8.4:18, 8.5:21, 8.6:23, 8.7:24, 8.8:26, 8.9:28,\n",
    "    9:30, 9.1:32, 9.2:33, 9.3:35, 9.4:37, 9.5:39, 9.6:41, 9.7:42, 9.8:44, 9.9:46,\n",
    "    10:48, 10.1:50, 10.2:52, 10.3:53, 10.4:55, 10.5:57, 10.6:58, 10.7:60, 10.8:62, 10.9:64,\n",
    "    11:66, 11.1:68, 11.2:69, 11.3:71, 11.4:73, 11.5:75, 11.6:76, 11.7:78, 11.8:80, 11.9:82,\n",
    "    12:84, 12.1:85, 12.2:87, 12.3:89, 12.4:91, 12.5:92, 12.6:94, 12.7:96, 12.8:98, 12.9:99,\n",
    "    13:101, 13.1:103, 13.2:105, 13.3:107, 13.4:108, 13.5:110, 13.6:112, 13.7:114, 13.8:115, 13.9:117,\n",
    "    14:119, 14.1:121, 14.2:122, 14.3:124, 14.4:126, 14.5:127, 14.6:129, 14.7:131, 14.8:133, 14.9:135,\n",
    "    15: 136\n",
    "}"
   ]
  },
  {
   "cell_type": "code",
   "execution_count": null,
   "metadata": {},
   "outputs": [],
   "source": [
    "# Iterate through the lookup map\n",
    "iterate_gauge(gaugeDegreeMap)"
   ]
  }
 ],
 "metadata": {
  "kernelspec": {
   "display_name": "Python 3",
   "language": "python",
   "name": "python3"
  },
  "language_info": {
   "codemirror_mode": {
    "name": "ipython",
    "version": 3
   },
   "file_extension": ".py",
   "mimetype": "text/x-python",
   "name": "python",
   "nbconvert_exporter": "python",
   "pygments_lexer": "ipython3",
   "version": "3.10.14"
  }
 },
 "nbformat": 4,
 "nbformat_minor": 2
}
